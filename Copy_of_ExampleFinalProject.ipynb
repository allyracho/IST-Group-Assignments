{
  "nbformat": 4,
  "nbformat_minor": 0,
  "metadata": {
    "colab": {
      "name": "Copy of ExampleFinalProject.ipynb",
      "provenance": [],
      "collapsed_sections": [],
      "include_colab_link": true
    },
    "kernelspec": {
      "name": "python3",
      "display_name": "Python 3"
    }
  },
  "cells": [
    {
      "cell_type": "markdown",
      "metadata": {
        "id": "view-in-github",
        "colab_type": "text"
      },
      "source": [
        "<a href=\"https://colab.research.google.com/github/allyracho/IST-Group-Assignments/blob/master/Copy_of_ExampleFinalProject.ipynb\" target=\"_parent\"><img src=\"https://colab.research.google.com/assets/colab-badge.svg\" alt=\"Open In Colab\"/></a>"
      ]
    },
    {
      "cell_type": "markdown",
      "metadata": {
        "id": "orzQoBRPcTAK",
        "colab_type": "text"
      },
      "source": [
        "## Project Name"
      ]
    },
    {
      "cell_type": "markdown",
      "metadata": {
        "id": "mgI4JWGvcYqb",
        "colab_type": "text"
      },
      "source": [
        "\n",
        "Created By:\n",
        "*   Name\n",
        "*   Name\n",
        "\n"
      ]
    },
    {
      "cell_type": "markdown",
      "metadata": {
        "id": "5i4tTX5Kce7b",
        "colab_type": "text"
      },
      "source": [
        "### Project Description"
      ]
    },
    {
      "cell_type": "markdown",
      "metadata": {
        "id": "j2SRXN8JciCC",
        "colab_type": "text"
      },
      "source": [
        "Describe your project. Words, words, words words. Words, words, words words. Words, words, words words. Words, words, words words. Words, words, words words. Words, words, words words. Words, words, words words. Words, words, words words. Words, words, words words. Words, words, words words. Words, words, words words. Words, words, words words. \n",
        "\n",
        "Words, words, words words. Words, words, words words. Words, words, words words. Words, words, words words. Words, words, words words. Words, words, words words. Words, words, words words. Words, words, words words. Words, words, words words. Words, words, words words. Words, words, words words. Words, words, words words. "
      ]
    },
    {
      "cell_type": "code",
      "metadata": {
        "id": "mlDVhlXxhi-C",
        "colab_type": "code",
        "outputId": "c9a48e0f-526d-4177-8351-07c19c5f3fa1",
        "colab": {
          "base_uri": "https://localhost:8080/",
          "height": 336
        }
      },
      "source": [
        "from IPython.display import IFrame\n",
        "# https://drive.google.com/uc?export=view&id=xxxxxxxxxxxx\n",
        "IFrame(\"https://drive.google.com/uc?export=view&id=14yIg88GXljP15rVNKbjDdY0tOv0R0V8N\", 560, 315)"
      ],
      "execution_count": 0,
      "outputs": [
        {
          "output_type": "execute_result",
          "data": {
            "text/html": [
              "\n",
              "        <iframe\n",
              "            width=\"560\"\n",
              "            height=\"315\"\n",
              "            src=\"https://drive.google.com/uc?export=view&id=14yIg88GXljP15rVNKbjDdY0tOv0R0V8N\"\n",
              "            frameborder=\"0\"\n",
              "            allowfullscreen\n",
              "        ></iframe>\n",
              "        "
            ],
            "text/plain": [
              "<IPython.lib.display.IFrame at 0x7f29136917f0>"
            ]
          },
          "metadata": {
            "tags": []
          },
          "execution_count": 9
        }
      ]
    },
    {
      "cell_type": "markdown",
      "metadata": {
        "id": "t6-Y4Xx_crf6",
        "colab_type": "text"
      },
      "source": [
        "#### ER Diagram"
      ]
    },
    {
      "cell_type": "markdown",
      "metadata": {
        "id": "h-iYURbCc-Fl",
        "colab_type": "text"
      },
      "source": [
        "![ER Diagram for Project - Movie Concessions](https://raw.githubusercontent.com/dudaspm/IST210/master/Introduction/Images/movieConcessions.png)"
      ]
    },
    {
      "cell_type": "markdown",
      "metadata": {
        "id": "OzwSzMerctdL",
        "colab_type": "text"
      },
      "source": [
        "Describe your ER Diagram. Words, words, words words. Words, words, words words. Words, words, words words. Words, words, words words. Words, words, words words. Words, words, words words. Words, words, words words. Words, words, words words. Words, words, words words. Words, words, words words. Words, words, words words. Words, words, words words. \n",
        "\n",
        "Words, words, words words. Words, words, words words. Words, words, words words. Words, words, words words. Words, words, words words. Words, words, words words. Words, words, words words. Words, words, words words. Words, words, words words. Words, words, words words. Words, words, words words. Words, words, words words. "
      ]
    },
    {
      "cell_type": "markdown",
      "metadata": {
        "id": "dgonvxYUdc7M",
        "colab_type": "text"
      },
      "source": [
        "Describe how you created your database, specifically the data for the insert statements. Words, words, words words. Words, words, words words. Words, words, words words. Words, words, words words. Words, words, words words. Words, words, words words. Words, words, words words. Words, words, words words. Words, words, words words. Words, words, words words. Words, words, words words. Words, words, words words. \n",
        "\n",
        "Words, words, words words. Words, words, words words. Words, words, words words. Words, words, words words. Words, words, words words. Words, words, words words. Words, words, words words. Words, words, words words. Words, words, words words. Words, words, words words. Words, words, words words. Words, words, words words. "
      ]
    },
    {
      "cell_type": "markdown",
      "metadata": {
        "id": "QMmyiEGXd1aV",
        "colab_type": "text"
      },
      "source": [
        "Create database and tables."
      ]
    },
    {
      "cell_type": "code",
      "metadata": {
        "id": "O2ST2uJScdGM",
        "colab_type": "code",
        "colab": {}
      },
      "source": [
        "import sqlite3 # Once imported in a single notebook, it is available to us throughout the rest of the notebook. \n",
        "# connect to database, if not there, create it.\n",
        "connectionToDatabase = sqlite3.connect('MovieConcessions') \n",
        "cursor = connectionToDatabase.cursor()\n",
        "cursor.execute('''drop table IF EXISTS Items''')\n",
        "connectionToDatabase.commit()\n",
        "\n",
        "cursor.execute('''create table Items (BARCODE text PRIMARY KEY, Name text, Cost real, Type text)''')\n",
        "connectionToDatabase.commit()\n",
        "\n",
        "cursor.execute('''drop table IF EXISTS Transactions''')\n",
        "connectionToDatabase.commit()\n",
        "\n",
        "cursor.execute('''create table Transactions (transactionID text PRIMARY KEY, Barcode text, DateTime text)''')\n",
        "connectionToDatabase.commit()"
      ],
      "execution_count": 0,
      "outputs": []
    },
    {
      "cell_type": "markdown",
      "metadata": {
        "id": "sGaBFUS2d5he",
        "colab_type": "text"
      },
      "source": [
        "Insert data into tables."
      ]
    },
    {
      "cell_type": "code",
      "metadata": {
        "id": "GqKVuozKd-Sz",
        "colab_type": "code",
        "colab": {}
      },
      "source": [
        "insertStatement =  \"\"\"insert into Items values ('98723171', 'Mepsi Cola', 1.25, 'Drink')\"\"\" \n",
        "cursor.execute(insertStatement)\n",
        "insertStatement =  \"\"\"insert into Items values ('83231231', 'Foke Cola', 1.25, 'Drink')\"\"\" \n",
        "cursor.execute(insertStatement)\n",
        "insertStatement =  \"\"\"insert into Items values ('75351143', 'Hill Dew', 1.25, 'Drink')\"\"\" \n",
        "cursor.execute(insertStatement)\n",
        "insertStatement =  \"\"\"insert into Items values ('63532454', 'Snickest', 1.50, 'Candy')\"\"\" \n",
        "cursor.execute(insertStatement)\n",
        "insertStatement =  \"\"\"insert into Items values ('55234231', 'M&N&Os', .75, 'Candy')\"\"\" \n",
        "cursor.execute(insertStatement)\n",
        "insertStatement =  \"\"\"insert into Items values ('43423413', 'Pizza', 3.25, 'Food')\"\"\" \n",
        "cursor.execute(insertStatement)\n",
        "insertStatement =  \"\"\"insert into Items values ('34242312', 'Nachos', 450, 'Food')\"\"\" \n",
        "cursor.execute(insertStatement)\n",
        "\n",
        "insertStatement =  \"\"\"insert into Transactions values ('01', '43423413', '2019-11-15 12:12:12')\"\"\" \n",
        "cursor.execute(insertStatement)\n",
        "insertStatement =  \"\"\"insert into Transactions values ('02', '43423413', '2019-11-15 12:12:20')\"\"\" \n",
        "cursor.execute(insertStatement)\n",
        "insertStatement =  \"\"\"insert into Transactions values ('03', '98723171', '2019-11-15 12:12:23')\"\"\" \n",
        "cursor.execute(insertStatement)\n",
        "insertStatement =  \"\"\"insert into Transactions values ('04', '83231231', '2019-11-15 19:34:23')\"\"\" \n",
        "cursor.execute(insertStatement)\n",
        "insertStatement =  \"\"\"insert into Transactions values ('05', '63532454', '2019-11-15 19:34:25')\"\"\" \n",
        "cursor.execute(insertStatement)\n",
        "insertStatement =  \"\"\"insert into Transactions values ('06', '43423413', '2019-11-15 19:34:30')\"\"\" \n",
        "cursor.execute(insertStatement)\n",
        "insertStatement =  \"\"\"insert into Transactions values ('07', '98723171', '2019-11-15 19:40:03')\"\"\" \n",
        "cursor.execute(insertStatement)\n",
        "insertStatement =  \"\"\"insert into Transactions values ('08', '55234231', '2019-11-15 19:40:05')\"\"\" \n",
        "cursor.execute(insertStatement)\n",
        "insertStatement =  \"\"\"insert into Transactions values ('09', '55234231', '2019-11-15 19:41:30')\"\"\" \n",
        "cursor.execute(insertStatement)\n",
        "connectionToDatabase.commit()"
      ],
      "execution_count": 0,
      "outputs": []
    },
    {
      "cell_type": "markdown",
      "metadata": {
        "id": "iMV4yhgJeaPT",
        "colab_type": "text"
      },
      "source": [
        "#### Checking my tables. "
      ]
    },
    {
      "cell_type": "code",
      "metadata": {
        "id": "MQ6cOHrjeeE7",
        "colab_type": "code",
        "colab": {}
      },
      "source": [
        "cursor.execute('''select * from Items''')\n",
        "for row in cursor.fetchall():\n",
        "  print (row)"
      ],
      "execution_count": 0,
      "outputs": []
    },
    {
      "cell_type": "code",
      "metadata": {
        "id": "C1xWUZmAee1k",
        "colab_type": "code",
        "colab": {}
      },
      "source": [
        "cursor.execute('''select * from Transactions''')\n",
        "for row in cursor.fetchall():\n",
        "  print (row)"
      ],
      "execution_count": 0,
      "outputs": []
    },
    {
      "cell_type": "markdown",
      "metadata": {
        "id": "LCOp1PgfeJ1t",
        "colab_type": "text"
      },
      "source": [
        "#### SQL Select Statements + Scenario"
      ]
    },
    {
      "cell_type": "markdown",
      "metadata": {
        "id": "g4tnMV_OeH3b",
        "colab_type": "text"
      },
      "source": [
        "Scenario for an average user. Words, words, words words. Words, words, words words. Words, words, words words. Words, words, words words. Words, words, words words. Words, words, words words. Words, words, words words. Words, words, words words. Words, words, words words. Words, words, words words. Words, words, words words. Words, words, words words. "
      ]
    },
    {
      "cell_type": "markdown",
      "metadata": {
        "id": "HgL_Ffv0eSw1",
        "colab_type": "text"
      },
      "source": [
        "Describe SQL Select Statement 1. Words, words, words words. Words, words, words words. Words, words, words words. Words, words, words words. Words, words, words words. Words, words, words words. Words, words, words words. Words, words, words words. Words, words, words words. Words, words, words words. Words, words, words words. Words, words, words words. "
      ]
    },
    {
      "cell_type": "code",
      "metadata": {
        "id": "1mwBniOveQ9V",
        "colab_type": "code",
        "colab": {}
      },
      "source": [
        "cursor.execute('''select * from Items WHERE Cost > 2''')\n",
        "for row in cursor.fetchall():\n",
        "  print (row)"
      ],
      "execution_count": 0,
      "outputs": []
    },
    {
      "cell_type": "markdown",
      "metadata": {
        "id": "p_0ytoj8eo9U",
        "colab_type": "text"
      },
      "source": [
        "Describe SQL Select Statement 2. Words, words, words words. Words, words, words words. Words, words, words words. Words, words, words words. Words, words, words words. Words, words, words words. Words, words, words words. Words, words, words words. Words, words, words words. Words, words, words words. Words, words, words words. Words, words, words words. "
      ]
    },
    {
      "cell_type": "code",
      "metadata": {
        "id": "Jt6OsqZFeq0i",
        "colab_type": "code",
        "colab": {}
      },
      "source": [
        "cursor.execute('''select * from Transactions WHERE DateTime Between \"2019-11-15 18:00:00\" AND \"2019-11-15 22:00:00\"''')\n",
        "for row in cursor.fetchall():\n",
        "  print (row)"
      ],
      "execution_count": 0,
      "outputs": []
    },
    {
      "cell_type": "markdown",
      "metadata": {
        "id": "Z3HTV5aXep4T",
        "colab_type": "text"
      },
      "source": [
        "Describe SQL Select Statement 3. Words, words, words words. Words, words, words words. Words, words, words words. Words, words, words words. Words, words, words words. Words, words, words words. Words, words, words words. Words, words, words words. Words, words, words words. Words, words, words words. Words, words, words words. Words, words, words words. "
      ]
    },
    {
      "cell_type": "code",
      "metadata": {
        "id": "f3haLhB4evCa",
        "colab_type": "code",
        "colab": {}
      },
      "source": [
        "cursor.execute('''select i.Name, i.Cost from Items i, Transactions t WHERE i.Barcode=t.Barcode  ''')\n",
        "for row in cursor.fetchall():\n",
        "  print (row)"
      ],
      "execution_count": 0,
      "outputs": []
    }
  ]
}