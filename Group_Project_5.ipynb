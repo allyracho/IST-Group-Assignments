{
  "nbformat": 4,
  "nbformat_minor": 0,
  "metadata": {
    "colab": {
      "name": "Group Project 5",
      "provenance": [],
      "collapsed_sections": [],
      "include_colab_link": true
    },
    "kernelspec": {
      "name": "python3",
      "display_name": "Python 3"
    }
  },
  "cells": [
    {
      "cell_type": "markdown",
      "metadata": {
        "id": "view-in-github",
        "colab_type": "text"
      },
      "source": [
        "<a href=\"https://colab.research.google.com/github/allyracho/IST-Group-Assignments/blob/master/Group_Project_5.ipynb\" target=\"_parent\"><img src=\"https://colab.research.google.com/assets/colab-badge.svg\" alt=\"Open In Colab\"/></a>"
      ]
    },
    {
      "cell_type": "markdown",
      "metadata": {
        "id": "cNH7UIVCzmgf",
        "colab_type": "text"
      },
      "source": [
        "**Project Name: NFL DATABSE**"
      ]
    },
    {
      "cell_type": "markdown",
      "metadata": {
        "id": "V3mV-1A90Lzw",
        "colab_type": "text"
      },
      "source": [
        "Created By: \n",
        "\n",
        "*   Jiahua Li\n",
        "*   Yang Fei\n",
        "*   Ally Racho\n",
        "*   Vinh Nguyen\n",
        "\n",
        "\n",
        "\n"
      ]
    },
    {
      "cell_type": "markdown",
      "metadata": {
        "id": "RiwyQQ_T0e-Q",
        "colab_type": "text"
      },
      "source": [
        "**Project Description:**"
      ]
    },
    {
      "cell_type": "markdown",
      "metadata": {
        "id": "-T8NZDlFNvTY",
        "colab_type": "text"
      },
      "source": [
        "The group created a database for the National Football League, NFL. We as a team are fascinated with the NFL and felt that no database includes all the information we would like to analyze. This idea is unique because it will be a combination of data on player and team performance as well as the revenue intake. I will be looking at it from the perspective of a team owner and when showing statistics of players, it would be similar to showing how well an employee is performing or how marketable an item would be. A typical business day for the analyst would include taking statistics on previously played games, updating the database, and reporting any changes made. Through discussions and brainstorming, the group settled on five topics to include. The five are team, headcoach, highest-paid players, MVP winners, and quarterback rating. The team included a revenue table in one ER diagram but later removed it and added ticket and merchandise sales to the team table as we felt it consolidated the information. Our group researched the statistics to be included and ensured accuracy amongst all tables. Our ER diagram had numerous revisions included adding and removing tables and fixing relationships. After these changes, the group settled on our final ER diagram pictured below. "
      ]
    },
    {
      "cell_type": "markdown",
      "metadata": {
        "id": "OkLuxJ8KVvK6",
        "colab_type": "text"
      },
      "source": [
        "**Video**"
      ]
    },
    {
      "cell_type": "code",
      "metadata": {
        "id": "LfWkFXJXVymf",
        "colab_type": "code",
        "outputId": "37949f3d-f2d6-4562-aeb3-ebb1c75234de",
        "colab": {
          "base_uri": "https://localhost:8080/",
          "height": 336
        }
      },
      "source": [
        "from IPython.display import IFrame\n",
        "IFrame(\"https://www.youtube.com/embed/vqjSqhxqWHc\", 560, 315)"
      ],
      "execution_count": 0,
      "outputs": [
        {
          "output_type": "execute_result",
          "data": {
            "text/html": [
              "\n",
              "        <iframe\n",
              "            width=\"560\"\n",
              "            height=\"315\"\n",
              "            src=\"https://www.youtube.com/embed/vqjSqhxqWHc\"\n",
              "            frameborder=\"0\"\n",
              "            allowfullscreen\n",
              "        ></iframe>\n",
              "        "
            ],
            "text/plain": [
              "<IPython.lib.display.IFrame at 0x7fdd39272358>"
            ]
          },
          "metadata": {
            "tags": []
          },
          "execution_count": 31
        }
      ]
    },
    {
      "cell_type": "markdown",
      "metadata": {
        "id": "eWNPKEYUQA_H",
        "colab_type": "text"
      },
      "source": [
        "**ER Diagram**"
      ]
    },
    {
      "cell_type": "markdown",
      "metadata": {
        "id": "FnZFlaItmFrv",
        "colab_type": "text"
      },
      "source": [
        "![alt text](https://raw.githubusercontent.com/allyracho/IST-Group-Assignments/master/G201.jpg)\n"
      ]
    },
    {
      "cell_type": "markdown",
      "metadata": {
        "id": "QdNfKZch1yCd",
        "colab_type": "text"
      },
      "source": [
        "**Description of ER Diagram**\n"
      ]
    },
    {
      "cell_type": "markdown",
      "metadata": {
        "id": "AGGn5UGuTkSA",
        "colab_type": "text"
      },
      "source": [
        "Each table is set up for a different entity. The first table will show the highest paid player of each team. This will give insight into how long the highest paid players for each team will be around. The attributes of this entity are the player's name, team, date of birth, position, and net worth. A constraint will be the range of ages. The second table will be the QBR, total quarterback rating, for the starting quarterbacks on each team. The QBR is a measure out of 158.3 and takes into account metrics on passing plays than passer rating such as strength of opposition and the clutch factor. This will show how well the quarterbacks for each team is performing and how important they are for the team. The attributes will be player's name, team, completion percentage, and year. Within these attributes, there is constraints  on the years active (1990-2019). Our third table is dedicated towards the head coach of each team and how long they were hired for the team. Our group felt this was a good entity as it indicates how well the team has performed in the past and whether or not they kept the head coach. Attributes for the table include the name of coach, team coached, years present, and the number of wins. Constraints will be for the amount of years (1920-2019). The fourth table will be the name and age of the last ten most valuable player winners. This statistic will show whether the younger players are starting to overtake the older players as the best in the league. It will also show that the NFL favors offensive players more than defensive players. Name, age, position, and team are the attributes for this table. A constraint such as keeping the range of ages between (18-50) and only checking between the years (2009-2019). Our final table is dedicated towards the team with team name being the primary key. Our entities are: number of players, coach, location, number of wins, ticket sales, and merchandise sales. Originally the diagram included a revenue table, but after consideration, it was merged with the team table. The relationships are pictured above. Using these entities, attributes, and constraints our goals can hopefully be achieved and create a successful database for the user."
      ]
    },
    {
      "cell_type": "markdown",
      "metadata": {
        "id": "pZVFnCvSsnCX",
        "colab_type": "text"
      },
      "source": [
        "**How Database was Created:**"
      ]
    },
    {
      "cell_type": "markdown",
      "metadata": {
        "id": "5KhA154PtOGY",
        "colab_type": "text"
      },
      "source": [
        "First of all, we knew the kinds of data we are interested in and we need to find out, and we used the resources from the internet for finding the data. After that, we collected those data and information for creating tables. For making it be more clear, we classified those data into different categories and created tables for each of the categories, and the tables also helped us to create the database easier. The final step is to insert the data into the database by SQL in our projects and we made sure it was working successfully, and end-users can see the results they want to search on their own."
      ]
    },
    {
      "cell_type": "markdown",
      "metadata": {
        "id": "LGoiGZJ01-X0",
        "colab_type": "text"
      },
      "source": [
        "**Create Database and Tables**"
      ]
    },
    {
      "cell_type": "code",
      "metadata": {
        "id": "fy55RlolQ-1_",
        "colab_type": "code",
        "colab": {}
      },
      "source": [
        "import sqlite3 \n",
        "connectionToDatabase = sqlite3.connect('NFL') \n",
        "\n",
        "cursor = connectionToDatabase.cursor()\n",
        "cursor.execute('''drop table IF EXISTS HeadCoach''')\n",
        "connectionToDatabase.commit()\n",
        "\n",
        "cursor.execute('''create table HeadCoach (coachID text PRIMARY KEY, F_Name text, L_Name text, TeamName text, YearsPresent int, NumberofWins int)''')\n",
        "connectionToDatabase.commit()\n",
        "\n",
        "cursor = connectionToDatabase.cursor()\n",
        "cursor.execute('''drop table IF EXISTS HighestPaidPlayer''')\n",
        "connectionToDatabase.commit()\n",
        "\n",
        "cursor.execute('''create table HighestPaidPlayer (playerID text PRIMARY KEY,  F_Name text, L_Name text, TeamName text, position text, NetWorth int, DOB text)''')\n",
        "connectionToDatabase.commit()\n",
        "\n",
        "cursor.execute('''drop table IF EXISTS Team''')\n",
        "connectionToDatabase.commit()\n",
        "\n",
        "cursor.execute('''create table Team (TeamName text PRIMARY KEY, Players int, Coach text, Location text, NumberofWins int, TicketSales real, MerchaindiseSales real)''')\n",
        "connectionToDatabase.commit()\n",
        "\n",
        "cursor = connectionToDatabase.cursor()\n",
        "cursor.execute('''drop table IF EXISTS MVPWinners''')\n",
        "connectionToDatabase.commit()\n",
        "\n",
        "cursor.execute('''create table MVPWinners (PlayerID text PRIMARY KEY, F_Name text, L_Name text, TeamName text, Position text, AgeofWinning int)''')\n",
        "connectionToDatabase.commit()\n",
        "\n",
        "cursor = connectionToDatabase.cursor()\n",
        "cursor.execute('''drop table IF EXISTS QBR''')\n",
        "connectionToDatabase.commit()\n",
        "\n",
        "cursor.execute('''create table QBR (PlayerID text PRIMARY KEY, F_Name text, L_Name text, TeamName text, Completionpercentage real, YearsActive real)''')\n",
        "connectionToDatabase.commit()"
      ],
      "execution_count": 0,
      "outputs": []
    },
    {
      "cell_type": "markdown",
      "metadata": {
        "id": "ro0FrwWx2GXU",
        "colab_type": "text"
      },
      "source": [
        "**Insert Data into Tables**"
      ]
    },
    {
      "cell_type": "code",
      "metadata": {
        "id": "4wA_p2JFRA1G",
        "colab_type": "code",
        "colab": {}
      },
      "source": [
        "cursor.execute('''insert into HeadCoach values ('46', 'Doug', 'Pederson', 'Philidelphia Eagles', 4, 37);''')\n",
        "connectionToDatabase.commit()\n",
        "cursor.execute('''insert into HeadCoach values ('30', 'Bill', 'Belichick', 'New England Patriots', 19, 202);''')\n",
        "connectionToDatabase.commit()\n",
        "cursor.execute('''insert into HeadCoach values ('12', 'Mike', 'Tomlin', 'Pittsburg Steelers', 12, 129);''')\n",
        "connectionToDatabase.commit()\n",
        "cursor.execute('''insert into HeadCoach values ('23', 'Sean', 'McVay', 'Los Angeles Rams', 2, 29);''')\n",
        "connectionToDatabase.commit()\n",
        "cursor.execute('''insert into HeadCoach values ('27', 'Adam', 'Gase', 'New York Jets', 1, 4);''')\n",
        "connectionToDatabase.commit()"
      ],
      "execution_count": 0,
      "outputs": []
    },
    {
      "cell_type": "code",
      "metadata": {
        "id": "C5oYChz8QBPn",
        "colab_type": "code",
        "colab": {}
      },
      "source": [
        "cursor.execute('''insert into HighestPaidPlayer values ('9', 'Eli', 'Manning', 'New York Giants', 'QB', 252300000, '10/08/76');''')\n",
        "connectionToDatabase.commit()\n",
        "cursor.execute('''insert into HighestPaidPlayer values ('32', 'Peyton', 'Manning', 'Indianapolis Colts', 'QB', 248700000, '03/22/78');''')\n",
        "connectionToDatabase.commit()\n",
        "cursor.execute('''insert into HighestPaidPlayer values ('99', 'Drew', 'Brees', 'New Orleans Saints', 'QB', 244700000, '05/13/77');''')\n",
        "connectionToDatabase.commit()\n",
        "cursor.execute('''insert into HighestPaidPlayer values ('65', 'Tom', 'Brady', 'New England Patriots', 'QB', 235200000, '11/10/80');''')\n",
        "connectionToDatabase.commit()\n",
        "cursor.execute('''insert into HighestPaidPlayer values ('14', 'Ben', 'Roethlisberger', 'Pittsburgh Steelers', 'QB', 232300000, '06/30/76');''')\n",
        "connectionToDatabase.commit()"
      ],
      "execution_count": 0,
      "outputs": []
    },
    {
      "cell_type": "code",
      "metadata": {
        "id": "9INYsj92REDL",
        "colab_type": "code",
        "colab": {}
      },
      "source": [
        "insertStatement =  \"\"\"insert into Team values ('Philidelphia Eagles', '12', '46', 'Philidephia, PA', 37, 78000000.00, 198000000.00)\"\"\" \n",
        "cursor.execute(insertStatement)\n",
        "insertStatement =  \"\"\"insert into Team values ('New England Patriots', '23', '30', 'Boston, MA', 202, 104000000.00, 360000000.00)\"\"\" \n",
        "cursor.execute(insertStatement)\n",
        "insertStatement =  \"\"\"insert into Team values ('Pittsburg Steelers', '34', '12', 'Pittsburgh, PA', 129, 85000000.00, 154000000.00)\"\"\" \n",
        "cursor.execute(insertStatement)\n",
        "insertStatement =  \"\"\"insert into Team values ('Los Angeles Rams', '45', '23', 'Los Angeles, CA', 29, 70000000.00, 93000000.00)\"\"\" \n",
        "cursor.execute(insertStatement)\n",
        "insertStatement = \"\"\"insert  into Team values ('New York Jets', '46','27','New York, NY', 4, 65000000.00, 81300000.00)\"\"\"\n",
        "connectionToDatabase.commit()"
      ],
      "execution_count": 0,
      "outputs": []
    },
    {
      "cell_type": "code",
      "metadata": {
        "id": "J3Cl9qu6RF2M",
        "colab_type": "code",
        "colab": {}
      },
      "source": [
        "cursor.execute('''insert into MVPWinners values ('20', 'Patrick', 'Mahomes', 'Kansas City Chiefs', 'QB', 24);''')\n",
        "connectionToDatabase.commit()\n",
        "cursor.execute('''insert into MVPWinners values ('3', 'Tom', 'Brady', 'New England Patriots', 'QB', 41);''')\n",
        "connectionToDatabase.commit()\n",
        "cursor.execute('''insert into MVPWinners values ('122', 'Matt', 'Ryan', 'Atlanta Falcons', 'QB', 32);''')\n",
        "connectionToDatabase.commit()\n",
        "cursor.execute('''insert into MVPWinners values ('75', 'Cam', 'Newton', 'Carolina Panthers', 'QB', 27);''')\n",
        "connectionToDatabase.commit()\n",
        "cursor.execute('''insert into MVPWinners values ('12', 'Aaron', 'Rodgers', 'Green Bay Packers', 'QB', 31);''')\n",
        "connectionToDatabase.commit()"
      ],
      "execution_count": 0,
      "outputs": []
    },
    {
      "cell_type": "code",
      "metadata": {
        "id": "t5X8YjfNRHzq",
        "colab_type": "code",
        "colab": {}
      },
      "source": [
        "cursor.execute('''insert into QBR values ('12', 'Carson', 'Werkz', 'Philadelphia Eagles', '65.5%', 5);''')\n",
        "connectionToDatabase.commit()\n",
        "cursor.execute('''insert into QBR values ('23', 'Mason', 'Pudolph', 'Pittsburgh Steelers', '78.7%', 3);''')\n",
        "connectionToDatabase.commit()\n",
        "cursor.execute('''insert into QBR values ('34', 'Kirk', 'Cousins', 'Minnesota Vikings', '35.5', 4);''')\n",
        "connectionToDatabase.commit()\n",
        "cursor.execute('''insert into QBR values ('45', 'Josh', 'Rosen', 'Miami Dophins', '39.4', 3);''')\n",
        "connectionToDatabase.commit()\n",
        "cursor.execute('''insert into QBR values ('20', 'Luke', 'Faulk', 'New York Jets', '26.2', 2);''')\n",
        "connectionToDatabase.commit()"
      ],
      "execution_count": 0,
      "outputs": []
    },
    {
      "cell_type": "markdown",
      "metadata": {
        "id": "5Plk00KP2OS8",
        "colab_type": "text"
      },
      "source": [
        "**Checking My Tables:** "
      ]
    },
    {
      "cell_type": "code",
      "metadata": {
        "id": "8xlJuUp98Fsa",
        "colab_type": "code",
        "outputId": "d5def78c-4c2a-4415-b352-0cbb18675bd8",
        "colab": {
          "base_uri": "https://localhost:8080/",
          "height": 85
        }
      },
      "source": [
        "cursor.execute('''select * from Team''')\n",
        "for row in cursor.fetchall():\n",
        "  print (row)"
      ],
      "execution_count": 0,
      "outputs": [
        {
          "output_type": "stream",
          "text": [
            "('Philidelphia Eagles', 12, '46', 'Philidephia, PA', 37, 78000000.0, 198000000.0)\n",
            "('New England Patriots', 23, '30', 'Boston, MA', 202, 104000000.0, 360000000.0)\n",
            "('Pittsburg Steelers', 34, '12', 'Pittsburgh, PA', 129, 85000000.0, 154000000.0)\n",
            "('Los Angeles Rams', 45, '23', 'Los Angeles, CA', 29, 70000000.0, 93000000.0)\n"
          ],
          "name": "stdout"
        }
      ]
    },
    {
      "cell_type": "code",
      "metadata": {
        "id": "AzE8BZa98MIO",
        "colab_type": "code",
        "outputId": "77fa82d7-4391-4b3a-a863-665bb0d253b1",
        "colab": {
          "base_uri": "https://localhost:8080/",
          "height": 102
        }
      },
      "source": [
        "cursor.execute('''select * from QBR''')\n",
        "for row in cursor.fetchall():\n",
        "  print (row)"
      ],
      "execution_count": 0,
      "outputs": [
        {
          "output_type": "stream",
          "text": [
            "('12', 'Carson', 'Werkz', 'Philadelphia Eagles', '65.5%', 5.0)\n",
            "('23', 'Mason', 'Pudolph', 'Pittsburgh Steelers', '78.7%', 3.0)\n",
            "('34', 'Kirk', 'Cousins', 'Minnesota Vikings', 35.5, 4.0)\n",
            "('45', 'Josh', 'Rosen', 'Miami Dophins', 39.4, 3.0)\n",
            "('20', 'Luke', 'Faulk', 'New York Jets', 26.2, 2.0)\n"
          ],
          "name": "stdout"
        }
      ]
    },
    {
      "cell_type": "code",
      "metadata": {
        "id": "N2Rszs7H8P2N",
        "colab_type": "code",
        "outputId": "e0784cd3-aa1c-4ed2-e996-5770fcc0b2aa",
        "colab": {
          "base_uri": "https://localhost:8080/",
          "height": 102
        }
      },
      "source": [
        "cursor.execute('''select * from HeadCoach''')\n",
        "for row in cursor.fetchall():\n",
        "  print (row)"
      ],
      "execution_count": 0,
      "outputs": [
        {
          "output_type": "stream",
          "text": [
            "('46', 'Doug', 'Pederson', 'Philidelphia Eagles', 4, 37)\n",
            "('30', 'Bill', 'Belichick', 'New England Patriots', 19, 202)\n",
            "('12', 'Mike', 'Tomlin', 'Pittsburg Steelers', 12, 129)\n",
            "('23', 'Sean', 'McVay', 'Los Angeles Rams', 2, 29)\n",
            "('27', 'Adam', 'Gase', 'New York Jets', 1, 4)\n"
          ],
          "name": "stdout"
        }
      ]
    },
    {
      "cell_type": "markdown",
      "metadata": {
        "id": "G-GLN87-XhWO",
        "colab_type": "text"
      },
      "source": [
        "**Scenario for an Average User**"
      ]
    },
    {
      "cell_type": "markdown",
      "metadata": {
        "id": "5e0I2UEAtMhq",
        "colab_type": "text"
      },
      "source": [
        "Jim Smith is a die-hard Philadelphia Eagles fan and also a business major at Penn State. He is fascinated by the statistics of teams and likes to see how many wins each has. Jim checks daily how his team is doing overall in the league. With this database, everything will be available at the touch of a button all in one place. Normally Jim has to check multiple websites for his statistics, but not anymore. Lately he is interested in knowing MVP Winners as he is working on a project in school for it. Instead of having to go to different websites, our database lets the user see who the winners were and even allows them to filter the results by year and age. With this database, Jim has all the information he ever needed about the NFL all in one place and does not need the hassle of having to search for it anymore."
      ]
    },
    {
      "cell_type": "markdown",
      "metadata": {
        "id": "u3sbje8RtGQc",
        "colab_type": "text"
      },
      "source": [
        "**Queries**"
      ]
    },
    {
      "cell_type": "markdown",
      "metadata": {
        "id": "DvogBSos_v1u",
        "colab_type": "text"
      },
      "source": [
        "What is the total number of wins among the 5 teams?\n"
      ]
    },
    {
      "cell_type": "code",
      "metadata": {
        "id": "ejE87BL2_Wsr",
        "colab_type": "code",
        "outputId": "d30461e0-a99a-45b5-d396-b6c2c57ac8ec",
        "colab": {
          "base_uri": "https://localhost:8080/",
          "height": 34
        }
      },
      "source": [
        "cursor.execute('''select SUM(NumberofWins) from Team''')\n",
        "for row in cursor.fetchall():\n",
        "  print (row)"
      ],
      "execution_count": 0,
      "outputs": [
        {
          "output_type": "stream",
          "text": [
            "(397,)\n"
          ],
          "name": "stdout"
        }
      ]
    },
    {
      "cell_type": "markdown",
      "metadata": {
        "id": "0j9_3hv8yOru",
        "colab_type": "text"
      },
      "source": [
        "The group decided on this question because Jim enjoys looking at the statistics among teams. The total among just five teams in our database is 397. This number will continue to increase overtime as more teams are added to the database and teams are created. Jim used to have to go to multiple websites to find out this answer, but not anymore."
      ]
    },
    {
      "cell_type": "markdown",
      "metadata": {
        "id": "eq8Y-fN674MN",
        "colab_type": "text"
      },
      "source": [
        "How many of the MVP Winners are above the age of 25?"
      ]
    },
    {
      "cell_type": "code",
      "metadata": {
        "id": "EKk7M0WMvkxB",
        "colab_type": "code",
        "outputId": "fbc88b51-300a-4393-a0e7-61892d88353e",
        "colab": {
          "base_uri": "https://localhost:8080/",
          "height": 34
        }
      },
      "source": [
        "cursor.execute('''select Count(AgeofWinning) from MVPWinners WHERE AgeofWinning> 25 ''')\n",
        "for row in cursor.fetchall():\n",
        "  print (row)"
      ],
      "execution_count": 0,
      "outputs": [
        {
          "output_type": "stream",
          "text": [
            "(4,)\n"
          ],
          "name": "stdout"
        }
      ]
    },
    {
      "cell_type": "markdown",
      "metadata": {
        "id": "k3Q2QOES7-N1",
        "colab_type": "text"
      },
      "source": [
        "This question is important because the team and Jim are interested in seeing how many players are keeping good form with their growing age. The group is also interesting in seeing if more older players are winning. The results match up to our expectations. We can see that there are a lot of players winning MVP older than 25."
      ]
    },
    {
      "cell_type": "markdown",
      "metadata": {
        "id": "Rlg1L6CS8AnO",
        "colab_type": "text"
      },
      "source": [
        "Where is the location of each team?"
      ]
    },
    {
      "cell_type": "code",
      "metadata": {
        "id": "miZozxM70JfT",
        "colab_type": "code",
        "outputId": "500f5d9b-845a-4984-f01b-4363be3ac363",
        "colab": {
          "base_uri": "https://localhost:8080/",
          "height": 85
        }
      },
      "source": [
        "cursor.execute('''select h.TeamName, t.Location from Team t, HeadCoach h where t.Coach=h.coachID''')\n",
        "for row in cursor.fetchall():\n",
        "  print (row)\n",
        "  "
      ],
      "execution_count": 0,
      "outputs": [
        {
          "output_type": "stream",
          "text": [
            "('Philidelphia Eagles', 'Philidephia, PA')\n",
            "('New England Patriots', 'Boston, MA')\n",
            "('Pittsburg Steelers', 'Pittsburgh, PA')\n",
            "('Los Angeles Rams', 'Los Angeles, CA')\n"
          ],
          "name": "stdout"
        }
      ]
    },
    {
      "cell_type": "markdown",
      "metadata": {
        "id": "Sro49i1Y8EN9",
        "colab_type": "text"
      },
      "source": [
        "The group felt this to be a suitable question as it easily locates the team and displays which city and state it is in. Our expections for what would be shown were correct, with the team name being first, and the location following after. This question allows for any team to be found conveniently if their team name does not necessarily match their location."
      ]
    }
  ]
}